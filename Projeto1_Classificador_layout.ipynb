{
 "cells": [
  {
   "cell_type": "markdown",
   "metadata": {},
   "source": [
    "# Projeto 1 - Ciência dos Dados"
   ]
  },
  {
   "cell_type": "markdown",
   "metadata": {},
   "source": [
    "Nome: Augusto Rocha Ribeiro"
   ]
  },
  {
   "cell_type": "markdown",
   "metadata": {},
   "source": [
    "**Atenção:** Serão permitidos grupos de três pessoas, mas com uma rubrica mais exigente. Grupos deste tamanho precisarão fazer um questionário de avaliação de trabalho em equipe"
   ]
  },
  {
   "cell_type": "markdown",
   "metadata": {},
   "source": [
    "___\n",
    "Carregando algumas bibliotecas:"
   ]
  },
  {
   "cell_type": "code",
   "execution_count": 1,
   "metadata": {},
   "outputs": [],
   "source": [
    "#-------------------------------------Importando as bibliotecas necessárias-----------------------------------------------------\n",
    "\n",
    "import pandas as pd\n",
    "import os\n",
    "import re \n",
    "from nltk.tokenize import TweetTokenizer\n",
    "tweet_tokenizer = TweetTokenizer()"
   ]
  },
  {
   "cell_type": "markdown",
   "metadata": {},
   "source": [
    "**Em `filename`, coloque o nome do seu arquivo de dados!**"
   ]
  },
  {
   "cell_type": "code",
   "execution_count": 2,
   "metadata": {},
   "outputs": [
    {
     "name": "stdout",
     "output_type": "stream",
     "text": [
      "Encontrei o arquivo Havaianas.xlsx, tudo certo para prosseguir com o projeto!\n"
     ]
    }
   ],
   "source": [
    "#### ----------------------------------Pegando o excel com as classificações manuais dos tweets-------------------------------------\n",
    "\n",
    "filename = 'Havaianas.xlsx'\n",
    "if filename in os.listdir():\n",
    "    print(f'Encontrei o arquivo {filename}, tudo certo para prosseguir com o projeto!')\n",
    "else:\n",
    "    print(f'Não encontrei o arquivo {filename} aqui no diretório {os.getcwd()}, será que você não baixou o arquivo?')"
   ]
  },
  {
   "cell_type": "markdown",
   "metadata": {},
   "source": [
    "Carregando a base de dados com os tweets classificados como relevantes e não relevantes:"
   ]
  },
  {
   "cell_type": "code",
   "execution_count": 3,
   "metadata": {},
   "outputs": [],
   "source": [
    "#----------------------------------------Definindo Relevantes e Irrelevantes----------------------------------------------------\n",
    "\n",
    "train = pd.read_excel(filename)\n",
    "train_relevante = train[train['Classificação']==1]\n",
    "train_irrelevante = train[train['Classificação']==0]\n",
    "\n",
    "test = pd.read_excel(filename, sheet_name = 'Teste')\n",
    "test_relevante = test[test['Classificação']==1]\n",
    "test_irrelevante = test[test['Classificação']==0]\n",
    "\n",
    "\n",
    "#------------------------------------------Classifica as categorias-------------------------------------------------------------\n",
    "\n",
    "train['Classificação'] = train['Classificação'].astype('category')\n",
    "test['Classificação'] = test['Classificação'].astype('category')\n",
    "\n",
    "train.Classificação.cat.categories = ['Irrelevante', 'Relevante']\n",
    "test.Classificação.cat.categories = ['Irrelevante', 'Relevante']"
   ]
  },
  {
   "cell_type": "markdown",
   "metadata": {},
   "source": [
    "___\n",
    "## Classificador automático de sentimento\n"
   ]
  },
  {
   "cell_type": "markdown",
   "metadata": {},
   "source": [
    "Foram considerados relevantes os comentários que expressavam uma crítica sobre o produto, seja ela positiva ou negativa."
   ]
  },
  {
   "cell_type": "markdown",
   "metadata": {},
   "source": [
    "___\n",
    "### Montando um Classificador Naive-Bayes\n",
    "\n",
    "Considerando apenas as mensagens da planilha Treinamento, ensine  seu classificador."
   ]
  },
  {
   "cell_type": "code",
   "execution_count": 18,
   "metadata": {},
   "outputs": [],
   "source": [
    "# Função para retirada de caracteres indesejado:\n",
    "\n",
    "def cleanup(text):\n",
    "    punctuation = '[!-.:?;@/\"\"“”,_]'\n",
    "    pattern = re.compile(punctuation)\n",
    "    text_pronto = re.sub(pattern, '', text)\n",
    "    return text_pronto\n",
    "\n",
    "\n",
    "# Função para retirada dos acentos nos textos:\n",
    "\n",
    "def tira_acentos(texto):\n",
    "    acentos = {'a':['á', 'à', 'ã', 'â', 'ä'], 'e':['ê', 'é', 'è', 'ë'], 'i':['í', 'ì', 'î', 'ï'], 'o':['ó', 'ò', 'ô', 'õ', 'ö'], 'u':['ú', 'ù', 'û', 'ü'], 'c':['ç']} \n",
    "    for l in acentos:\n",
    "        for e in acentos[l]:\n",
    "            texto = texto.replace(e, l)\n",
    "    return texto\n",
    "\n",
    "\n",
    "#----------------------------Cria uma string com todas as palavras e caracteres da parte de Treinamento-------------------------\n",
    "\n",
    "tweets_train = ''\n",
    "for i in range(len(train)):\n",
    "    tweets_train += train['Treinamento'].loc[i] + ' '\n",
    "\n",
    "train_limpo = tira_acentos(cleanup(tweets_train.lower()))    # Deixa a string somente com letras minúsculas, retira caracteres\n",
    "                                                             # indesejados e retira os acentos das letras e palavras\n",
    "\n",
    "lista_train = tweet_tokenizer.tokenize(train_limpo)    # Separa os emojis das palavras, e cria uma lista\n",
    "                                                       # em que cada palavra ou emoji é um elemento            \n",
    "           \n",
    "tabela_t = pd.Series(lista_train).value_counts()       # Faz uma tabela com as frequências de cada palavra na lista acima"
   ]
  },
  {
   "cell_type": "code",
   "execution_count": 5,
   "metadata": {},
   "outputs": [],
   "source": [
    "#----------------------------------Selecionando tweets de treinamento relevantes e irrelevantes---------------------------------\n",
    "\n",
    "linhas_train_relev = train['Classificação'] == 'Relevante'\n",
    "df_train_relev = train.loc[linhas_train_relev, :]\n",
    "\n",
    "linhas_train_irrelev = train['Classificação'] == 'Irrelevante'\n",
    "df_train_irrelev = train.loc[linhas_train_irrelev, :]\n",
    "\n",
    "#------------------Juntando todos os tweets de treinamento relevantes e irrelevantes cada um numa só string---------------------\n",
    "\n",
    "tweets_train_relev = ''\n",
    "for i in df_train_relev['Treinamento']:\n",
    "    tweets_train_relev += i\n",
    "\n",
    "tweets_train_irrelev = ''\n",
    "for i in df_train_irrelev['Treinamento']:\n",
    "    tweets_train_irrelev += i\n",
    "\n",
    "    \n",
    "#----------------------------------Tornando as strings criadas acima em listas de palavras--------------------------------------\n",
    "\n",
    "lista_train_relev = tweet_tokenizer.tokenize(tira_acentos(cleanup(tweets_train_relev.lower())))\n",
    "\n",
    "lista_train_irrelev = tweet_tokenizer.tokenize(tira_acentos(cleanup(tweets_train_irrelev.lower())))"
   ]
  },
  {
   "cell_type": "code",
   "execution_count": 6,
   "metadata": {},
   "outputs": [
    {
     "name": "stdout",
     "output_type": "stream",
     "text": [
      "Frequência ABSOLUTA das palavras dos tweets RELEVANTES\n",
      "\n",
      "havaianas          127\n",
      "de                  70\n",
      "e                   63\n",
      "uma                 43\n",
      "a                   37\n",
      "                  ... \n",
      "sola                 1\n",
      "6338fmdudaasb        1\n",
      "httpstcokyliygw      1\n",
      "latarcioamparo       1\n",
      "🤭                    1\n",
      "Length: 755, dtype: int64\n",
      "\n",
      "\n",
      "Frequência RELATIVA das palavras dos tweets RELEVANTES\n",
      "\n",
      "havaianas          0.069857\n",
      "de                 0.038504\n",
      "e                  0.034653\n",
      "uma                0.023652\n",
      "a                  0.020352\n",
      "                     ...   \n",
      "sola               0.000550\n",
      "6338fmdudaasb      0.000550\n",
      "httpstcokyliygw    0.000550\n",
      "latarcioamparo     0.000550\n",
      "🤭                  0.000550\n",
      "Length: 755, dtype: float64\n",
      "\n",
      "\n",
      "Frequência ABSOLUTA das palavras dos tweets IRRELEVANTES\n",
      "\n",
      "havaianas    120\n",
      "de            93\n",
      "e             73\n",
      "que           43\n",
      "a             37\n",
      "            ... \n",
      "httpstcoe      1\n",
      "canto          1\n",
      "carnaval       1\n",
      "te             1\n",
      "gnt            1\n",
      "Length: 1048, dtype: int64\n",
      "\n",
      "\n",
      "Frequência RELATIVA das palavras dos tweets IRRELEVANTES\n",
      "\n",
      "havaianas    0.053074\n",
      "de           0.041132\n",
      "e            0.032287\n",
      "que          0.019018\n",
      "a            0.016364\n",
      "               ...   \n",
      "httpstcoe    0.000442\n",
      "canto        0.000442\n",
      "carnaval     0.000442\n",
      "te           0.000442\n",
      "gnt          0.000442\n",
      "Length: 1048, dtype: float64\n"
     ]
    }
   ],
   "source": [
    "#------------------------------Frequências para os tweets de treino relevantes--------------------------------------------------\n",
    "\n",
    "tabela_tra = pd.Series(lista_train_relev).value_counts()\n",
    "tabela_trr = pd.Series(lista_train_relev).value_counts(True)\n",
    "\n",
    "print('Frequência ABSOLUTA das palavras dos tweets RELEVANTES\\n')\n",
    "print(tabela_tra)\n",
    "\n",
    "print('\\n\\nFrequência RELATIVA das palavras dos tweets RELEVANTES\\n')\n",
    "print(tabela_trr)   # tabela printada à título de consulta, pois não será usada posteriormente\n",
    "\n",
    "\n",
    "#------------------------------Frequências para os tweets de treino irrelevantes------------------------------------------------\n",
    "\n",
    "tabela_tia = pd.Series(lista_train_irrelev).value_counts()\n",
    "tabela_tir = pd.Series(lista_train_irrelev).value_counts(True)\n",
    "\n",
    "print('\\n\\nFrequência ABSOLUTA das palavras dos tweets IRRELEVANTES\\n')\n",
    "print(tabela_tia)\n",
    "\n",
    "print('\\n\\nFrequência RELATIVA das palavras dos tweets IRRELEVANTES\\n')\n",
    "print(tabela_tir)   # tabela printada à título de consulta, pois não será usada posteriormente"
   ]
  },
  {
   "cell_type": "code",
   "execution_count": 7,
   "metadata": {},
   "outputs": [
    {
     "data": {
      "text/html": [
       "<div>\n",
       "<style scoped>\n",
       "    .dataframe tbody tr th:only-of-type {\n",
       "        vertical-align: middle;\n",
       "    }\n",
       "\n",
       "    .dataframe tbody tr th {\n",
       "        vertical-align: top;\n",
       "    }\n",
       "\n",
       "    .dataframe thead th {\n",
       "        text-align: right;\n",
       "    }\n",
       "</style>\n",
       "<table border=\"1\" class=\"dataframe\">\n",
       "  <thead>\n",
       "    <tr style=\"text-align: right;\">\n",
       "      <th></th>\n",
       "      <th>Teste</th>\n",
       "      <th>Classificação</th>\n",
       "    </tr>\n",
       "  </thead>\n",
       "  <tbody>\n",
       "    <tr>\n",
       "      <th>0</th>\n",
       "      <td>[joshnaku, delicia, perfeito, minecraft, chine...</td>\n",
       "      <td>Relevante</td>\n",
       "    </tr>\n",
       "    <tr>\n",
       "      <th>1</th>\n",
       "      <td>[vendese, foto, dos, meus, pes, feios, com, ma...</td>\n",
       "      <td>Relevante</td>\n",
       "    </tr>\n",
       "    <tr>\n",
       "      <th>2</th>\n",
       "      <td>[rt, ribeirod, 10, nao, vejo, a, hora, de, che...</td>\n",
       "      <td>Relevante</td>\n",
       "    </tr>\n",
       "    <tr>\n",
       "      <th>3</th>\n",
       "      <td>[estou, indo, de, havaiana, eu, tem, problema,...</td>\n",
       "      <td>Relevante</td>\n",
       "    </tr>\n",
       "    <tr>\n",
       "      <th>4</th>\n",
       "      <td>[menina, com, shorts, saia, e, havaianas, 🥰, 🥰...</td>\n",
       "      <td>Relevante</td>\n",
       "    </tr>\n",
       "    <tr>\n",
       "      <th>...</th>\n",
       "      <td>...</td>\n",
       "      <td>...</td>\n",
       "    </tr>\n",
       "    <tr>\n",
       "      <th>195</th>\n",
       "      <td>[egirao, aeciodepapelao, mas, a, tv, e, uma, u...</td>\n",
       "      <td>Irrelevante</td>\n",
       "    </tr>\n",
       "    <tr>\n",
       "      <th>196</th>\n",
       "      <td>[todo, mundo, q, for, vir, no, meu, aniversari...</td>\n",
       "      <td>Relevante</td>\n",
       "    </tr>\n",
       "    <tr>\n",
       "      <th>197</th>\n",
       "      <td>[eu, prometi, pra, mim, mesmo, que, eu, nao, i...</td>\n",
       "      <td>Relevante</td>\n",
       "    </tr>\n",
       "    <tr>\n",
       "      <th>198</th>\n",
       "      <td>[eu, sempre, tive, toque, com, havaianas, bran...</td>\n",
       "      <td>Irrelevante</td>\n",
       "    </tr>\n",
       "    <tr>\n",
       "      <th>199</th>\n",
       "      <td>[oi, vcs, sao, reais, manda, foto, da, sua, ha...</td>\n",
       "      <td>Irrelevante</td>\n",
       "    </tr>\n",
       "  </tbody>\n",
       "</table>\n",
       "<p>200 rows × 2 columns</p>\n",
       "</div>"
      ],
      "text/plain": [
       "                                                 Teste Classificação\n",
       "0    [joshnaku, delicia, perfeito, minecraft, chine...     Relevante\n",
       "1    [vendese, foto, dos, meus, pes, feios, com, ma...     Relevante\n",
       "2    [rt, ribeirod, 10, nao, vejo, a, hora, de, che...     Relevante\n",
       "3    [estou, indo, de, havaiana, eu, tem, problema,...     Relevante\n",
       "4    [menina, com, shorts, saia, e, havaianas, 🥰, 🥰...     Relevante\n",
       "..                                                 ...           ...\n",
       "195  [egirao, aeciodepapelao, mas, a, tv, e, uma, u...   Irrelevante\n",
       "196  [todo, mundo, q, for, vir, no, meu, aniversari...     Relevante\n",
       "197  [eu, prometi, pra, mim, mesmo, que, eu, nao, i...     Relevante\n",
       "198  [eu, sempre, tive, toque, com, havaianas, bran...   Irrelevante\n",
       "199  [oi, vcs, sao, reais, manda, foto, da, sua, ha...   Irrelevante\n",
       "\n",
       "[200 rows x 2 columns]"
      ]
     },
     "execution_count": 7,
     "metadata": {},
     "output_type": "execute_result"
    }
   ],
   "source": [
    "#-------------------------Limpando os tweets de teste e transformando-os em listas linha a linha--------------------------------\n",
    "\n",
    "teste_em_listas = pd.DataFrame()\n",
    "\n",
    "for i in range(len(test['Teste'])):\n",
    "    teste_em_listas.loc[i, 'Teste'] = tira_acentos(cleanup(test['Teste'][i].lower()))\n",
    "    teste_em_listas.loc[i, 'Teste'] = tweet_tokenizer.tokenize(teste_em_listas.loc[i, 'Teste'])\n",
    "\n",
    "teste_em_listas['Classificação'] = test['Classificação']\n",
    "teste_em_listas"
   ]
  },
  {
   "cell_type": "code",
   "execution_count": 8,
   "metadata": {},
   "outputs": [],
   "source": [
    "# Explicação dos parâmetros usados nas seguintes funções:\n",
    "#   tab_abs: tabela de frequências absolutas\n",
    "#   lista_de_pal: lista de palavras que será usada\n",
    "#   tab_tds_palavras: tabela que contém todas as palavras possíveis\n",
    "#   tab_abs_rel: tabela de frequências absolutas para os tweets relevantes\n",
    "#   tab_abs_irr: tabela de frequências absolutas para os tweets irrelevantes\n",
    "#   lista_rel: lista de palavras dos tweets relevantes\n",
    "#   lista_irr: lista de palavras dos tweets irrelevantes\n",
    "\n",
    "\n",
    "# Função para realizar o cálculo de probabilidades das palavras\n",
    "\n",
    "def probabilidade_tweet(tweet, tab_abs, lista_de_pal, tab_tds_palavras):\n",
    "    prob = 1\n",
    "    for palavra in tweet:\n",
    "        if not palavra in tab_abs:                                      # Se a palavra de teste não consta em treinamento,\n",
    "            prob = prob / (len(lista_de_pal) + len(tab_tds_palavras))   # então de acordo com a suavização de LaPlace\n",
    "                                                                        # a probabilidade dessa palavra fica com numerador 1\n",
    "        else:\n",
    "            prob = prob * (tab_abs['%s'%(palavra)] + 1) / (len(lista_de_pal) + len(tab_tds_palavras))\n",
    "    return prob\n",
    "\n",
    "\n",
    "# Função que compara a probabilidade de ser relevante com não relevante e devolve a resposta:\n",
    "\n",
    "def classifica(tweet, tab_abs_rel, tab_abs_irr, lista_rel, lista_irr, tab_tds_palavras):\n",
    "    if probabilidade_tweet(tweet, tab_abs_rel, lista_rel, tab_tds_palavras) > probabilidade_tweet(tweet, tab_abs_irr, lista_irr, tab_tds_palavras):\n",
    "        return 'Relevante'\n",
    "    else:\n",
    "        return 'Irrelevante'"
   ]
  },
  {
   "cell_type": "markdown",
   "metadata": {},
   "source": [
    "___\n",
    "### Verificando a performance do Classificador\n",
    "\n",
    "Agora você deve testar o seu classificador com a base de Testes."
   ]
  },
  {
   "cell_type": "code",
   "execution_count": 9,
   "metadata": {},
   "outputs": [
    {
     "data": {
      "text/html": [
       "<div>\n",
       "<style scoped>\n",
       "    .dataframe tbody tr th:only-of-type {\n",
       "        vertical-align: middle;\n",
       "    }\n",
       "\n",
       "    .dataframe tbody tr th {\n",
       "        vertical-align: top;\n",
       "    }\n",
       "\n",
       "    .dataframe thead th {\n",
       "        text-align: right;\n",
       "    }\n",
       "</style>\n",
       "<table border=\"1\" class=\"dataframe\">\n",
       "  <thead>\n",
       "    <tr style=\"text-align: right;\">\n",
       "      <th></th>\n",
       "      <th>Teste</th>\n",
       "      <th>Classificação</th>\n",
       "      <th>Performance</th>\n",
       "    </tr>\n",
       "  </thead>\n",
       "  <tbody>\n",
       "    <tr>\n",
       "      <th>0</th>\n",
       "      <td>[joshnaku, delicia, perfeito, minecraft, chine...</td>\n",
       "      <td>Relevante</td>\n",
       "      <td>Relevante</td>\n",
       "    </tr>\n",
       "    <tr>\n",
       "      <th>1</th>\n",
       "      <td>[vendese, foto, dos, meus, pes, feios, com, ma...</td>\n",
       "      <td>Relevante</td>\n",
       "      <td>Relevante</td>\n",
       "    </tr>\n",
       "    <tr>\n",
       "      <th>2</th>\n",
       "      <td>[rt, ribeirod, 10, nao, vejo, a, hora, de, che...</td>\n",
       "      <td>Relevante</td>\n",
       "      <td>Relevante</td>\n",
       "    </tr>\n",
       "    <tr>\n",
       "      <th>3</th>\n",
       "      <td>[estou, indo, de, havaiana, eu, tem, problema,...</td>\n",
       "      <td>Relevante</td>\n",
       "      <td>Relevante</td>\n",
       "    </tr>\n",
       "    <tr>\n",
       "      <th>4</th>\n",
       "      <td>[menina, com, shorts, saia, e, havaianas, 🥰, 🥰...</td>\n",
       "      <td>Relevante</td>\n",
       "      <td>Relevante</td>\n",
       "    </tr>\n",
       "    <tr>\n",
       "      <th>...</th>\n",
       "      <td>...</td>\n",
       "      <td>...</td>\n",
       "      <td>...</td>\n",
       "    </tr>\n",
       "    <tr>\n",
       "      <th>195</th>\n",
       "      <td>[egirao, aeciodepapelao, mas, a, tv, e, uma, u...</td>\n",
       "      <td>Irrelevante</td>\n",
       "      <td>Relevante</td>\n",
       "    </tr>\n",
       "    <tr>\n",
       "      <th>196</th>\n",
       "      <td>[todo, mundo, q, for, vir, no, meu, aniversari...</td>\n",
       "      <td>Relevante</td>\n",
       "      <td>Relevante</td>\n",
       "    </tr>\n",
       "    <tr>\n",
       "      <th>197</th>\n",
       "      <td>[eu, prometi, pra, mim, mesmo, que, eu, nao, i...</td>\n",
       "      <td>Relevante</td>\n",
       "      <td>Relevante</td>\n",
       "    </tr>\n",
       "    <tr>\n",
       "      <th>198</th>\n",
       "      <td>[eu, sempre, tive, toque, com, havaianas, bran...</td>\n",
       "      <td>Irrelevante</td>\n",
       "      <td>Relevante</td>\n",
       "    </tr>\n",
       "    <tr>\n",
       "      <th>199</th>\n",
       "      <td>[oi, vcs, sao, reais, manda, foto, da, sua, ha...</td>\n",
       "      <td>Irrelevante</td>\n",
       "      <td>Irrelevante</td>\n",
       "    </tr>\n",
       "  </tbody>\n",
       "</table>\n",
       "<p>200 rows × 3 columns</p>\n",
       "</div>"
      ],
      "text/plain": [
       "                                                 Teste Classificação  \\\n",
       "0    [joshnaku, delicia, perfeito, minecraft, chine...     Relevante   \n",
       "1    [vendese, foto, dos, meus, pes, feios, com, ma...     Relevante   \n",
       "2    [rt, ribeirod, 10, nao, vejo, a, hora, de, che...     Relevante   \n",
       "3    [estou, indo, de, havaiana, eu, tem, problema,...     Relevante   \n",
       "4    [menina, com, shorts, saia, e, havaianas, 🥰, 🥰...     Relevante   \n",
       "..                                                 ...           ...   \n",
       "195  [egirao, aeciodepapelao, mas, a, tv, e, uma, u...   Irrelevante   \n",
       "196  [todo, mundo, q, for, vir, no, meu, aniversari...     Relevante   \n",
       "197  [eu, prometi, pra, mim, mesmo, que, eu, nao, i...     Relevante   \n",
       "198  [eu, sempre, tive, toque, com, havaianas, bran...   Irrelevante   \n",
       "199  [oi, vcs, sao, reais, manda, foto, da, sua, ha...   Irrelevante   \n",
       "\n",
       "     Performance  \n",
       "0      Relevante  \n",
       "1      Relevante  \n",
       "2      Relevante  \n",
       "3      Relevante  \n",
       "4      Relevante  \n",
       "..           ...  \n",
       "195    Relevante  \n",
       "196    Relevante  \n",
       "197    Relevante  \n",
       "198    Relevante  \n",
       "199  Irrelevante  \n",
       "\n",
       "[200 rows x 3 columns]"
      ]
     },
     "execution_count": 9,
     "metadata": {},
     "output_type": "execute_result"
    }
   ],
   "source": [
    "#-------------------------------------Adicionando uma nova coluna ao dataframe Teste--------------------------------------------\n",
    "\n",
    "teste_em_listas['Performance'] = 'NaN'\n",
    "for i in range(len(teste_em_listas)):\n",
    "    teste_em_listas.loc[i, 'Performance'] = classifica(teste_em_listas.loc[i, 'Teste'], tabela_tra, tabela_tia, lista_train_relev, lista_train_irrelev, tabela_t)\n",
    "teste_em_listas\n"
   ]
  },
  {
   "cell_type": "code",
   "execution_count": 10,
   "metadata": {},
   "outputs": [
    {
     "data": {
      "text/plain": [
       "0.625"
      ]
     },
     "execution_count": 10,
     "metadata": {},
     "output_type": "execute_result"
    }
   ],
   "source": [
    "#-------------------------------------Contando o percentual de acertos----------------------------------------------------------\n",
    "\n",
    "contador = 0\n",
    "for i in range(len(teste_em_listas)):\n",
    "    if teste_em_listas.loc[i, 'Classificação'] == teste_em_listas.loc[i, 'Performance']:\n",
    "        contador += 1\n",
    "contador = contador / len(teste_em_listas)\n",
    "    \n",
    "contador"
   ]
  },
  {
   "cell_type": "code",
   "execution_count": 11,
   "metadata": {},
   "outputs": [
    {
     "data": {
      "text/html": [
       "<div>\n",
       "<style scoped>\n",
       "    .dataframe tbody tr th:only-of-type {\n",
       "        vertical-align: middle;\n",
       "    }\n",
       "\n",
       "    .dataframe tbody tr th {\n",
       "        vertical-align: top;\n",
       "    }\n",
       "\n",
       "    .dataframe thead th {\n",
       "        text-align: right;\n",
       "    }\n",
       "</style>\n",
       "<table border=\"1\" class=\"dataframe\">\n",
       "  <thead>\n",
       "    <tr style=\"text-align: right;\">\n",
       "      <th>Performance</th>\n",
       "      <th>Irrelevante</th>\n",
       "      <th>Relevante</th>\n",
       "      <th>All</th>\n",
       "    </tr>\n",
       "    <tr>\n",
       "      <th>Classificação</th>\n",
       "      <th></th>\n",
       "      <th></th>\n",
       "      <th></th>\n",
       "    </tr>\n",
       "  </thead>\n",
       "  <tbody>\n",
       "    <tr>\n",
       "      <th>Irrelevante</th>\n",
       "      <td>0.28</td>\n",
       "      <td>0.265</td>\n",
       "      <td>0.545</td>\n",
       "    </tr>\n",
       "    <tr>\n",
       "      <th>Relevante</th>\n",
       "      <td>0.11</td>\n",
       "      <td>0.345</td>\n",
       "      <td>0.455</td>\n",
       "    </tr>\n",
       "    <tr>\n",
       "      <th>All</th>\n",
       "      <td>0.39</td>\n",
       "      <td>0.610</td>\n",
       "      <td>1.000</td>\n",
       "    </tr>\n",
       "  </tbody>\n",
       "</table>\n",
       "</div>"
      ],
      "text/plain": [
       "Performance    Irrelevante  Relevante    All\n",
       "Classificação                               \n",
       "Irrelevante           0.28      0.265  0.545\n",
       "Relevante             0.11      0.345  0.455\n",
       "All                   0.39      0.610  1.000"
      ]
     },
     "execution_count": 11,
     "metadata": {},
     "output_type": "execute_result"
    }
   ],
   "source": [
    "#------------------------Dashboard para análise de sentimento e visualização de dados-------------------------------------------\n",
    "\n",
    "quadro = pd.crosstab(teste_em_listas['Classificação'], teste_em_listas['Performance'], margins = True, normalize = True)\n",
    "quadro"
   ]
  },
  {
   "cell_type": "markdown",
   "metadata": {},
   "source": [
    "Analisando a tabela acima, é possível ver que obtemos as seguintes porcentagens:\n",
    "* Verdadeiros positivos (mensagens relevantes e que são classificadas como relevantes): 34,5%\n",
    "* Falsos positivos (mensagens irrelevantes e que são classificadas como relevantes): 26,5%\n",
    "* Verdadeiros negativos (mensagens irrelevantes e que são classificadas como irrelevantes): 28%\n",
    "* Falsos negativos (mensagens relevantes e que são classificadas como irrelevantes): 11%"
   ]
  },
  {
   "cell_type": "markdown",
   "metadata": {},
   "source": [
    "___\n",
    "### Qualidade do Classificador a partir de novas separações dos tweets entre Treinamento e Teste"
   ]
  },
  {
   "cell_type": "code",
   "execution_count": 12,
   "metadata": {},
   "outputs": [],
   "source": [
    "# Importando a biblioteca que será usada nessa seção do projeto:\n",
    "\n",
    "from sklearn.model_selection import train_test_split\n",
    "import matplotlib.pyplot as plt\n",
    "import numpy as np"
   ]
  },
  {
   "cell_type": "code",
   "execution_count": 13,
   "metadata": {},
   "outputs": [],
   "source": [
    "todos = pd.read_excel(filename, sheet_name = 'Todos')                # dataframe com os 500 tweets juntos\n",
    "lista_percentuais = []                                   # lista que servirá para montar o histograma\n",
    "\n",
    "\n",
    "# Abaixo, foi feita uma função que devolve o percentual de acertos para cada nova separação dos tweets entre\n",
    "# Treinamento e Teste. Por essa função sintetizar o que foi trabalhado ao longo desse jupyter notebook,\n",
    "# a maioria dos comandos nela presentes já foram explicados nas células acima.\n",
    "\n",
    "def devolve_percentual_de_acertos(df):\n",
    "    df_train, df_test = train_test_split(df, train_size=0.6)    # Separação de maneira aleatória dos tweets entre\n",
    "                                                                # Treinamento e Teste, sendo que a parte de Treinamento\n",
    "                                                                # fica com 60% dos tweets e a parte de Teste fica com 40%\n",
    "    \n",
    "    df_train = df_train.reset_index(drop=True)    # Resetando os índices das linhas do dataframe para facilitar a sua\n",
    "    df_test = df_test.reset_index(drop=True)      # manipulação. Os índices nesse caso não são importantes.\n",
    "    \n",
    "    df_train_relevante = df_train[df_train['Classificação']==1]\n",
    "    df_train_irrelevante = df_train[df_train['Classificação']==0]\n",
    "\n",
    "    df_test_relevante = df_test[df_test['Classificação']==1]\n",
    "    df_test_irrelevante = df_test[df_test['Classificação']==0]\n",
    "    \n",
    "    df_train['Classificação'] = df_train['Classificação'].astype('category')\n",
    "    df_test['Classificação'] = df_test['Classificação'].astype('category')\n",
    "\n",
    "    df_train.Classificação.cat.categories = ['Irrelevante', 'Relevante']\n",
    "    df_test.Classificação.cat.categories = ['Irrelevante', 'Relevante']\n",
    "\n",
    "    tweets_df_train = ''\n",
    "    for i in range(len(df_train)):\n",
    "        tweets_df_train += df_train['Tweet'].loc[i]\n",
    "\n",
    "    df_train_limpo = tira_acentos(cleanup(tweets_df_train.lower()))\n",
    "    lista_df_train = tweet_tokenizer.tokenize(df_train_limpo)\n",
    "           \n",
    "    tab_t = pd.Series(lista_df_train).value_counts()\n",
    "    \n",
    "    linhas_df_train_rel = df_train['Classificação'] == 'Relevante'\n",
    "    df_train_rel = df_train.loc[linhas_df_train_rel, :]\n",
    "\n",
    "    linhas_df_train_irr = df_train['Classificação'] == 'Irrelevante'\n",
    "    df_train_irr = df_train.loc[linhas_df_train_irr, :]\n",
    "\n",
    "    tweets_df_train_rel = ''\n",
    "    for i in df_train_rel['Tweet']:\n",
    "        tweets_df_train_rel += i\n",
    "\n",
    "    tweets_df_train_irr = ''\n",
    "    for i in df_train_irr['Tweet']:\n",
    "        tweets_df_train_irr += i\n",
    "\n",
    "    lista_df_train_rel = tweet_tokenizer.tokenize(tira_acentos(cleanup(tweets_df_train_rel.lower())))\n",
    "    lista_df_train_irr = tweet_tokenizer.tokenize(tira_acentos(cleanup(tweets_df_train_irr.lower())))\n",
    "    \n",
    "    tab_tra = pd.Series(lista_df_train_rel).value_counts()\n",
    "    tab_tia = pd.Series(lista_df_train_irr).value_counts()\n",
    "    \n",
    "    \n",
    "    df_test_em_listas = pd.DataFrame()\n",
    "    for i in range(len(df_test['Tweet'])):\n",
    "        df_test_em_listas.loc[i, 'Tweet'] = tira_acentos(cleanup(df_test['Tweet'][i].lower()))\n",
    "        df_test_em_listas.loc[i, 'Tweet'] = tweet_tokenizer.tokenize(df_test_em_listas.loc[i, 'Tweet'])\n",
    "    df_test_em_listas['Classificação'] = df_test['Classificação']\n",
    "    \n",
    "    df_test_em_listas['Performance'] = 'NaN'\n",
    "    for i in range(len(df_test_em_listas)):\n",
    "        df_test_em_listas.loc[i, 'Performance'] = classifica(df_test_em_listas.loc[i, 'Tweet'], tab_tra, tab_tia, lista_df_train_rel, lista_df_train_irr, tab_t)\n",
    "    \n",
    "    percentual_de_acertos = 0\n",
    "    for i in range(len(df_test_em_listas)):\n",
    "        if df_test_em_listas.loc[i, 'Classificação'] == df_test_em_listas.loc[i, 'Performance']:\n",
    "            percentual_de_acertos += 1\n",
    "    percentual_de_acertos = percentual_de_acertos / len(df_test_em_listas)\n",
    "    \n",
    "    return percentual_de_acertos"
   ]
  },
  {
   "cell_type": "code",
   "execution_count": 14,
   "metadata": {},
   "outputs": [],
   "source": [
    "# Repetindo a função definida acima 100 vezes para coletar valores de percentual\n",
    "# de acertos e ir adicionando-os um a um na minha lista\n",
    "\n",
    "for i in range(100):\n",
    "    lista_percentuais.append(devolve_percentual_de_acertos(todos))"
   ]
  },
  {
   "cell_type": "code",
   "execution_count": 15,
   "metadata": {},
   "outputs": [
    {
     "data": {
      "image/png": "[encoded data removed]",
      "text/plain": [
       "<Figure size 432x288 with 1 Axes>"
      ]
     },
     "metadata": {
      "needs_background": "light"
     },
     "output_type": "display_data"
    }
   ],
   "source": [
    "# Construção do histograma usando a lista com os percentuais de acertos para cada uma das 100 vezes em que a função\n",
    "# \"devolve_percentual_de_acertos()\" foi executada, foram usadas 15 faixas nesse histograma.\n",
    "\n",
    "plt.hist(lista_percentuais, bins=15, edgecolor='white')\n",
    "plt.title('Histograma para várias separações dos tweets entre Treinamento e Teste')\n",
    "plt.ylabel('Frequência')\n",
    "plt.xlabel('Percentuais de acertos')\n",
    "plt.show()"
   ]
  },
  {
   "cell_type": "code",
   "execution_count": 16,
   "metadata": {},
   "outputs": [
    {
     "name": "stdout",
     "output_type": "stream",
     "text": [
      "Porcentagem média de acertos do meu classificador: 58.4 %\n"
     ]
    }
   ],
   "source": [
    "print('Porcentagem média de acertos do meu classificador:', (np.mean(lista_percentuais)*100).round(2), '%')"
   ]
  },
  {
   "cell_type": "markdown",
   "metadata": {},
   "source": [
    "# Concluindo"
   ]
  },
  {
   "cell_type": "markdown",
   "metadata": {},
   "source": [
    "Considerando que o classificador teve uma porcentagem média de acertos de 58,46% (e de 62,5% na primeira tentativa), é correto dizer que ele teve uma performance moderada para boa. Para tal resultado, foram essenciais algumas manipulações, como a suavização de Laplace, remoção de caracteres indesejados (emojis são mantidos), correção de espaços entre palavras e emojis e entre os próprios emojis, e a remoção de acentos das letras, sendo a última, uma manipulação extra feita por mim, que se mostrou cabível para o caso, no qual os usuários não precisam escrever de acordo com a norma culta da língua portuguesa.\n",
    "\n",
    "Embora tenha funções de bibliotecas do python que façam a remoção de acentos das letras, eu mesmo fiz a minha função porque funções como unidecode() além de retirar os acentos, também removem os emojis, o que não é o nosso foco nesse classificador. Então, o que foi feito na minha função foi identificar as letras que continham acentos e usar a função replace() para substituí-las pelas suas respectivas letras sem o acento. Os acentos considerados aqui foram o agudo, o circunflexo, o til, o grave e o trema para as vogais, e o cedilha para a letra \"c\".\n",
    "\n",
    "Analisando a última tabela cruzada printada, vemos que a porcentagem de falsos positivos está bem maior que a de falsos negativos, a partir dessa informação, é importante nos perguntarmos e analisarmos se o nosso classificador está tendencioso a classificar os tweets como relevantes. Assim, é sempre importante reconhecer que ainda é possível realizar algumas melhorias no classificador em questão.\n",
    "\n",
    "#### Qualidade do Classificador a partir de novas separações dos tweets entre Treinamento e Teste:\n",
    "A partir do histograma plotado acima, é fundamental que vejamos, na construção de um classificador, a importância de se considerar várias divisões da base de dados em Treinamento e Teste, pois assim conseguimos ter uma maior noção sobre o valor para o qual o percentual de acertos do meu classificador tende. Não conseguir essa ampla visão da real performance do meu classificador, já que toda a avaliação deste acaba sendo feita com base em uma única separação dos tweets entre Treinamento e Teste, se mostra como uma grande desvantagem para a construção de um classificador que considera apenas uma única divisão da base de dados em treinamento e em teste."
   ]
  },
  {
   "cell_type": "markdown",
   "metadata": {},
   "source": [
    "## Dupla negação e sarcasmo"
   ]
  },
  {
   "cell_type": "markdown",
   "metadata": {},
   "source": [
    "Duas características sintáticas da língua portuguesa que são mais passíveis de classificação incorreta por parte de classificadores é a dupla negação e o sarcasmo. Por serem particularidades sintáticas consagradas pelo uso, fica mais difícil atribuir ao classificador a \"interpretação\" necessária para compreendê-las.\n",
    "\n",
    "Essas duas características provavelmente causariam mais confusão numa situação em que se busca classificar frases positivas e negativas sobre algo, pois em frases que contenham essas figuras da linguagem, o classificador identificaria as frases como uma categoria oposta (sendo \"positivo\" oposto de \"negativo\") ao que elas realmente são, justamente por causa das peculiaridades que a dupla negação e o sarcasmo apresentam.\n",
    "\n",
    "No nosso caso, felizmente, essa confusão não se faz tão presente pois aqui o que almejamos não é classificar tweets em positivos e negativos sobre o produto, mas sim identificar tweets que fazem uma crítica sobre o produto, seja ela positiva ou negativa. Assim, obtém-se uma seção de tweets que contém exclusivamente feedbacks sobre o produto, excluindo os tweets que apenas o mencionam, sem sequer avaliá-lo em algum âmbito.\n",
    "\n",
    "Para uma futura continuação desse projeto, aí então seria bem conveniente realizar a separação entre críticas positivas, negativas e mistas (que apresentam prós e contras). E ter em mãos um classificador que descarta comentários que não servem para a aprimoração do produto, como o que foi feito nesse projeto, seria extremamente útil. Logo, esse projeto deveria continuar sendo financiado, pois para a realização de uma análise mais focada e específica sobre o produto, grande parte do caminho já foi andado. Ao final dessa análise dos resultados devolvidos pelo classificador aperfeiçoado e otimizado, o entendimento de como se dá a relação dos consumidores com o produto nas diversas situações existentes se mostrará bem mais claro e organizado, permitindo ao fabricante mapear quais são as atitudes que devem ser tomadas para melhorar a performance do produto e a sua relação com os consumidores."
   ]
  },
  {
   "cell_type": "markdown",
   "metadata": {},
   "source": [
    "## Por que não posso alimentar minha base de treinamento automaticamente usando o próprio classificador, aplicado a novos tweets?\n",
    "\n",
    "Na criação de classificadores, é bem importante que a questão acima seja levantada para que não haja erros no resultado final. Para respondê-la, temos que lembrar que o classificador é feito com base em um conjunto de tweets que são classificados a mão, tweet a tweet, esse conjunto é chamado de treinamento. Quando uma pessoa faz essa seleção manual dos tweets, está sendo criado no classificador um padrão, que é primariamente regido pela interpretação da pessoa que classificou os tweets, e ao alimentar a minha base de treinamento automaticamente usando o próprio classificador, restringe-se cada vez mais a base de treinamento a uma classificação padronizada dos tweets, que era adequada para a coleção inicial de tweets (classificada manualmente), especificamente para AQUELES tweets, mas que vai diminuindo a flexibilidade do classificador de categorizar novos casos a medida que se alimenta o classificador dessa maneira, em outras palavras, essa prática irá deixar o classificador VICIADO. Por isso não se deve alimentar as bases de treinamento dessa maneira."
   ]
  },
  {
   "cell_type": "markdown",
   "metadata": {},
   "source": [
    "## Diferentes cenários:\n",
    "\n",
    "O classificador Naive-Bayes que fizemos nesse projeto pode atuar em diversas situações, seguem algumas delas:\n",
    "\n",
    "* Classificação de artigos em um jornal, indicando o tema geral do artigo a partir dos jargões, manchetes e palavras usadas na notícia. \n",
    "* Classificação de e-mails, onde o classificador poderia identificar e-mails e separá-los como spam ou email importante a partir do assunto do email, links que este contém, endereço eletrônico do remetente e palavras usadas. Dividindo assim os emails e facilitando a vida do usuário.\n",
    "* Classificação de artigos científicos em sites, identificando as palavras chave de cada matéria. Um exemplo seria um texto que contém o uso recorrente das palavras \"integral\" e \"derivada\", que com os filtros certos, seria identificado como um artigo de área de exatas. Da mesma maneira, um artigo com o uso da palavra \"mitocôndria\" seria provavelmente classificado como pertencente a área das ciências biológicas.\n",
    "___\n",
    "* O seguinte cenário de atuação do classificador Naive-Bayes foi retirado do site https://www.datageeks.com.br/naive-bayes/#:~:text=Classifica%C3%A7%C3%A3o%20com%20Naive%20Bayes,-Category%3A%20Machine%20Learning&text=O%20algoritmo%20%E2%80%9CNaive%20Bayes%E2%80%9D%20%C3%A9,provar%20a%20exist%C3%AAncia%20de%20Deus.\n",
    "\n",
    "Um problema simples que exemplifica bem o teorema de Naive-Bayes é o cálculo de probabilidades em cima de diagnóstico de doenças.\n",
    "\n",
    "Imagine que estamos trabalhando no diagnóstico de uma nova doença. Após realizar testes, coletas e análises com 100 pessoas distintas, descobrimos que 20 pessoas possuíam a doença e 80 pessoas estavam saudáveis. De todas as pessoas que possuíam a doença, 90% receberam Positivo no teste. Já 30% das pessoas que não possuíam a doença também receberam o teste positivo.\n",
    "\n",
    "A partir destes dados, surge o problema:\n",
    "###### Se uma nova pessoa realizar o teste e receber um resultado positivo, qual a probabilidade dela realmente possuir a doença?\n",
    "\n",
    "Essa probabilidade a posteriori é resolvida pelo Naive Bayes. Para isso, é preciso multiplicar a probabilidade a priori (possuir a doença) pela probabilidade de “receber um resultado positivo, dado que tem a doença”. Com esses dados, também podemos calcular a probabilidade a posteriori da negação (não possuir a doença, dado que recebeu um resultado positivo)."
   ]
  },
  {
   "cell_type": "markdown",
   "metadata": {},
   "source": [
    "\n",
    "## Melhorias:\n",
    "\n",
    "Embora tenhamos atingido uma boa performance com o nosso classificador, podemos ainda apontar pontos que melhorariam tal performance. Alguns deles são:\n",
    "\n",
    "* Aplicar filtros para descartar palavras que não serão úteis para o classificador, como conectivos, artigos, entre outros. Essa remoção de palavras inúteis poderia ser realizada no momento em que os tweets são transformados em listas de palavras. Evidente que tais palavras só podem ser consideradas como irrelevantes ou com relevância desprezível para o classificador após uma análise cautelosa do meu problema.\n",
    "* Identificar polissemia (diferentes significados para a mesma palavra) e sinonímia (diferentes palavras para o mesmo significado) nos tweets, e para o último caso, buscar abordar também as gírias e abreviações comumente utilizadas na internet. Para ter maior noção nesse objetivo: https://repositorio.ufscar.br/bitstream/handle/ufscar/7903/LOCHTER_Johannes_2015.pdf?sequence=1&isAllowed=y\n",
    "* Aprofundamento na análise do impacto causado nas probalidades de cada categoria pelos emojis, e saber as dimensões da intereferência desses elementos no meu projeto. Para saber mais: https://www.researchgate.net/profile/Leandro-De-Castro/publication/236161918_Uso_de_Emoticons_para_Analise_de_Sentimento_de_Tweets/links/00b49533d15fbd802d000000/Uso-de-Emoticons-para-Analise-de-Sentimento-de-Tweets.pdf\n",
    "* Inserir mais categorias para melhorar a capacidade de categorização do classificador, como no lugar de \"Tweets Relevantes\", dividir entre \"Tweets relevantes com críticas positivas\" e \"Tweets relevantes com críticas negativas\". Para isso, seria preciso realizar mais classificações manuais na base de dados de treinamento do classificador para que este consiga compreender minimamente os dados e probabilidades relativos a cada categoria.\n",
    "* Após o aumento de categorias mencionado acima, separar palavras que contenham sarcasmo e dupla negação. Para um melhor entendimento de como proceder nesses dois casos, seguem dois sites que tratam desses assuntos: http://www.each.usp.br/digiampietri/BraSNAM/2015/p12.pdf e http://repositorio.unicamp.br/bitstream/REPOSIP/260283/1/Silva_PauloSergioda_D.pdf\n"
   ]
  },
  {
   "cell_type": "markdown",
   "metadata": {},
   "source": [
    "___\n",
    "## Referências"
   ]
  },
  {
   "cell_type": "markdown",
   "metadata": {},
   "source": [
    "[Naive Bayes and Text Classification](https://arxiv.org/pdf/1410.5329.pdf)  **Mais completo**\n",
    "\n",
    "[A practical explanation of a Naive Bayes Classifier](https://monkeylearn.com/blog/practical-explanation-naive-bayes-classifier/) **Mais simples**\n",
    "\n",
    "https://pypi.org/project/Unidecode/\n",
    "\n",
    "https://www.normaculta.com.br/dupla-negacao/\n",
    "\n",
    "https://scikit-learn.org/stable/modules/generated/sklearn.model_selection.train_test_split.html\n",
    "\n",
    "https://www.datageeks.com.br/naive-bayes/#:~:text=Classifica%C3%A7%C3%A3o%20com%20Naive%20Bayes,-Category%3A%20Machine%20Learning&text=O%20algoritmo%20%E2%80%9CNaive%20Bayes%E2%80%9D%20%C3%A9,provar%20a%20exist%C3%AAncia%20de%20Deus."
   ]
  },
  {
   "cell_type": "code",
   "execution_count": null,
   "metadata": {},
   "outputs": [],
   "source": []
  }
 ],
 "metadata": {
  "kernelspec": {
   "display_name": "Python 3",
   "language": "python",
   "name": "python3"
  },
  "language_info": {
   "codemirror_mode": {
    "name": "ipython",
    "version": 3
   },
   "file_extension": ".py",
   "mimetype": "text/x-python",
   "name": "python",
   "nbconvert_exporter": "python",
   "pygments_lexer": "ipython3",
   "version": "3.7.6"
  }
 },
 "nbformat": 4,
 "nbformat_minor": 4
}
